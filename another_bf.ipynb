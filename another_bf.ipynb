{
 "cells": [
  {
   "cell_type": "code",
   "execution_count": 1,
   "metadata": {},
   "outputs": [],
   "source": [
    "def check_prefix(T, A):\n",
    "    return len(A) >= len(T) and T == A[0: len(T)]"
   ]
  },
  {
   "cell_type": "code",
   "execution_count": 2,
   "metadata": {},
   "outputs": [],
   "source": [
    "def bf_solution(T, S):\n",
    "    count = [0]\n",
    "    permutations = []\n",
    "\n",
    "    def inner(s, a, s_index, permutation):\n",
    "        if len(s) == 0:\n",
    "            if check_prefix(T, a):\n",
    "                count[0] += 1\n",
    "                permutations.append((a, permutation))\n",
    "        else:\n",
    "            inner(s[1:], f'{s[0]}{a}', s_index + 1, [s_index, *permutation])\n",
    "            inner(s[1:], f'{a}{s[0]}', s_index + 1, [*permutation, s_index])\n",
    "    \n",
    "    inner(S[1:], S[0], 1, [0])\n",
    "\n",
    "    return count[0], permutations"
   ]
  },
  {
   "cell_type": "code",
   "execution_count": 18,
   "metadata": {},
   "outputs": [
    {
     "name": "stdout",
     "output_type": "stream",
     "text": [
      "95\n",
      "('abcacbbccd', [9, 8, 7, 6, 5, 4, 3, 2, 1, 0])\n",
      "('abccbbccda', [9, 8, 7, 5, 4, 3, 2, 1, 0, 6])\n",
      "('abcbbccdac', [9, 8, 5, 4, 3, 2, 1, 0, 6, 7])\n",
      "('abcabbccdc', [9, 8, 7, 6, 4, 3, 2, 1, 0, 5])\n",
      "('abcbbccdca', [9, 8, 7, 4, 3, 2, 1, 0, 5, 6])\n",
      "('abcacbccdb', [9, 8, 7, 6, 5, 3, 2, 1, 0, 4])\n",
      "('abccbccdba', [9, 8, 7, 5, 3, 2, 1, 0, 4, 6])\n",
      "('abcbccdbac', [9, 8, 5, 3, 2, 1, 0, 4, 6, 7])\n",
      "('abcabccdbc', [9, 8, 7, 6, 3, 2, 1, 0, 4, 5])\n",
      "('abccdbccba', [6, 3, 2, 1, 0, 4, 5, 7, 8, 9])\n",
      "('abcbccdbca', [9, 8, 7, 3, 2, 1, 0, 4, 5, 6])\n",
      "('abccdbcacb', [9, 3, 2, 1, 0, 4, 5, 6, 7, 8])\n",
      "('abcacbccdb', [9, 8, 7, 6, 5, 4, 2, 1, 0, 3])\n",
      "('abccbccdba', [9, 8, 7, 5, 4, 2, 1, 0, 3, 6])\n",
      "('abcbccdbac', [9, 8, 5, 4, 2, 1, 0, 3, 6, 7])\n",
      "('abcabccdbc', [9, 8, 7, 6, 4, 2, 1, 0, 3, 5])\n",
      "('abccdbccba', [6, 4, 2, 1, 0, 3, 5, 7, 8, 9])\n",
      "('abcbccdbca', [9, 8, 7, 4, 2, 1, 0, 3, 5, 6])\n",
      "('abccdbcacb', [9, 4, 2, 1, 0, 3, 5, 6, 7, 8])\n",
      "('abcacccdbb', [9, 8, 7, 6, 5, 2, 1, 0, 3, 4])\n",
      "('abccccdbba', [9, 8, 7, 5, 2, 1, 0, 3, 4, 6])\n",
      "('abcccdbbac', [9, 8, 5, 2, 1, 0, 3, 4, 6, 7])\n",
      "('abcaccdbbc', [9, 8, 7, 6, 2, 1, 0, 3, 4, 5])\n",
      "('abcccdbbca', [9, 8, 7, 2, 1, 0, 3, 4, 5, 6])\n",
      "('abccdbbcac', [9, 8, 2, 1, 0, 3, 4, 5, 6, 7])\n",
      "('abcacbbcdc', [9, 8, 7, 6, 5, 4, 3, 1, 0, 2])\n",
      "('abccbbcdca', [9, 8, 7, 5, 4, 3, 1, 0, 2, 6])\n",
      "('abcbbcdcac', [9, 8, 5, 4, 3, 1, 0, 2, 6, 7])\n",
      "('abcabbcdcc', [9, 8, 7, 6, 4, 3, 1, 0, 2, 5])\n",
      "('abcbbcdcca', [9, 8, 7, 4, 3, 1, 0, 2, 5, 6])\n",
      "('abcacbcdcb', [9, 8, 7, 6, 5, 3, 1, 0, 2, 4])\n",
      "('abccbcdcba', [9, 8, 7, 5, 3, 1, 0, 2, 4, 6])\n",
      "('abcbcdcbac', [9, 8, 5, 3, 1, 0, 2, 4, 6, 7])\n",
      "('abcabcdcbc', [9, 8, 7, 6, 3, 1, 0, 2, 4, 5])\n",
      "('abcdcbccba', [6, 3, 1, 0, 2, 4, 5, 7, 8, 9])\n",
      "('abcbcdcbca', [9, 8, 7, 3, 1, 0, 2, 4, 5, 6])\n",
      "('abcdcbcacb', [9, 3, 1, 0, 2, 4, 5, 6, 7, 8])\n",
      "('abcacbcdcb', [9, 8, 7, 6, 5, 4, 1, 0, 2, 3])\n",
      "('abccbcdcba', [9, 8, 7, 5, 4, 1, 0, 2, 3, 6])\n",
      "('abcbcdcbac', [9, 8, 5, 4, 1, 0, 2, 3, 6, 7])\n",
      "('abcabcdcbc', [9, 8, 7, 6, 4, 1, 0, 2, 3, 5])\n",
      "('abcdcbccba', [6, 4, 1, 0, 2, 3, 5, 7, 8, 9])\n",
      "('abcbcdcbca', [9, 8, 7, 4, 1, 0, 2, 3, 5, 6])\n",
      "('abcdcbcacb', [9, 4, 1, 0, 2, 3, 5, 6, 7, 8])\n",
      "('abcaccdcbb', [9, 8, 7, 6, 5, 1, 0, 2, 3, 4])\n",
      "('abcccdcbba', [9, 8, 7, 5, 1, 0, 2, 3, 4, 6])\n",
      "('abccdcbbac', [9, 8, 5, 1, 0, 2, 3, 4, 6, 7])\n",
      "('abcacdcbbc', [9, 8, 7, 6, 1, 0, 2, 3, 4, 5])\n",
      "('abccdcbbca', [9, 8, 7, 1, 0, 2, 3, 4, 5, 6])\n",
      "('abcdcbbcac', [9, 8, 1, 0, 2, 3, 4, 5, 6, 7])\n",
      "('abcacbbcdc', [9, 8, 7, 6, 5, 4, 3, 2, 0, 1])\n",
      "('abccbbcdca', [9, 8, 7, 5, 4, 3, 2, 0, 1, 6])\n",
      "('abcbbcdcac', [9, 8, 5, 4, 3, 2, 0, 1, 6, 7])\n",
      "('abcabbcdcc', [9, 8, 7, 6, 4, 3, 2, 0, 1, 5])\n",
      "('abcbbcdcca', [9, 8, 7, 4, 3, 2, 0, 1, 5, 6])\n",
      "('abcacbcdcb', [9, 8, 7, 6, 5, 3, 2, 0, 1, 4])\n",
      "('abccbcdcba', [9, 8, 7, 5, 3, 2, 0, 1, 4, 6])\n",
      "('abcbcdcbac', [9, 8, 5, 3, 2, 0, 1, 4, 6, 7])\n",
      "('abcabcdcbc', [9, 8, 7, 6, 3, 2, 0, 1, 4, 5])\n",
      "('abcdcbccba', [6, 3, 2, 0, 1, 4, 5, 7, 8, 9])\n",
      "('abcbcdcbca', [9, 8, 7, 3, 2, 0, 1, 4, 5, 6])\n",
      "('abcdcbcacb', [9, 3, 2, 0, 1, 4, 5, 6, 7, 8])\n",
      "('abcacbcdcb', [9, 8, 7, 6, 5, 4, 2, 0, 1, 3])\n",
      "('abccbcdcba', [9, 8, 7, 5, 4, 2, 0, 1, 3, 6])\n",
      "('abcbcdcbac', [9, 8, 5, 4, 2, 0, 1, 3, 6, 7])\n",
      "('abcabcdcbc', [9, 8, 7, 6, 4, 2, 0, 1, 3, 5])\n",
      "('abcdcbccba', [6, 4, 2, 0, 1, 3, 5, 7, 8, 9])\n",
      "('abcbcdcbca', [9, 8, 7, 4, 2, 0, 1, 3, 5, 6])\n",
      "('abcdcbcacb', [9, 4, 2, 0, 1, 3, 5, 6, 7, 8])\n",
      "('abcaccdcbb', [9, 8, 7, 6, 5, 2, 0, 1, 3, 4])\n",
      "('abcccdcbba', [9, 8, 7, 5, 2, 0, 1, 3, 4, 6])\n",
      "('abccdcbbac', [9, 8, 5, 2, 0, 1, 3, 4, 6, 7])\n",
      "('abcacdcbbc', [9, 8, 7, 6, 2, 0, 1, 3, 4, 5])\n",
      "('abccdcbbca', [9, 8, 7, 2, 0, 1, 3, 4, 5, 6])\n",
      "('abcdcbbcac', [9, 8, 2, 0, 1, 3, 4, 5, 6, 7])\n",
      "('abcacbbdcc', [9, 8, 7, 6, 5, 4, 3, 0, 1, 2])\n",
      "('abccbbdcca', [9, 8, 7, 5, 4, 3, 0, 1, 2, 6])\n",
      "('abcbbdccac', [9, 8, 5, 4, 3, 0, 1, 2, 6, 7])\n",
      "('abcabbdccc', [9, 8, 7, 6, 4, 3, 0, 1, 2, 5])\n",
      "('abcbbdccca', [9, 8, 7, 4, 3, 0, 1, 2, 5, 6])\n",
      "('abcacbdccb', [9, 8, 7, 6, 5, 3, 0, 1, 2, 4])\n",
      "('abccbdccba', [9, 8, 7, 5, 3, 0, 1, 2, 4, 6])\n",
      "('abcbdccbac', [9, 8, 5, 3, 0, 1, 2, 4, 6, 7])\n",
      "('abcabdccbc', [9, 8, 7, 6, 3, 0, 1, 2, 4, 5])\n",
      "('abcbdccbca', [9, 8, 7, 3, 0, 1, 2, 4, 5, 6])\n",
      "('abcacbdccb', [9, 8, 7, 6, 5, 4, 0, 1, 2, 3])\n",
      "('abccbdccba', [9, 8, 7, 5, 4, 0, 1, 2, 3, 6])\n",
      "('abcbdccbac', [9, 8, 5, 4, 0, 1, 2, 3, 6, 7])\n",
      "('abcabdccbc', [9, 8, 7, 6, 4, 0, 1, 2, 3, 5])\n",
      "('abcbdccbca', [9, 8, 7, 4, 0, 1, 2, 3, 5, 6])\n",
      "('abcacdccbb', [9, 8, 7, 6, 5, 0, 1, 2, 3, 4])\n",
      "('abccdccbba', [9, 8, 7, 5, 0, 1, 2, 3, 4, 6])\n",
      "('abcdccbbac', [9, 8, 5, 0, 1, 2, 3, 4, 6, 7])\n",
      "('abcadccbbc', [9, 8, 7, 6, 0, 1, 2, 3, 4, 5])\n",
      "('abcdccbbca', [9, 8, 7, 0, 1, 2, 3, 4, 5, 6])\n"
     ]
    }
   ],
   "source": [
    "c, ps = bf_solution('abc', 'dccbbcacba')\n",
    "print(c)\n",
    "for p in ps:\n",
    "    print(p)"
   ]
  },
  {
   "cell_type": "code",
   "execution_count": null,
   "metadata": {},
   "outputs": [],
   "source": []
  }
 ],
 "metadata": {
  "kernelspec": {
   "display_name": "Python 3",
   "language": "python",
   "name": "python3"
  },
  "language_info": {
   "codemirror_mode": {
    "name": "ipython",
    "version": 3
   },
   "file_extension": ".py",
   "mimetype": "text/x-python",
   "name": "python",
   "nbconvert_exporter": "python",
   "pygments_lexer": "ipython3",
   "version": "3.11.2 (main, Feb  8 2023, 00:00:00) [GCC 12.2.1 20221121 (Red Hat 12.2.1-4)]"
  },
  "orig_nbformat": 4,
  "vscode": {
   "interpreter": {
    "hash": "e7370f93d1d0cde622a1f8e1c04877d8463912d04d973331ad4851f04de6915a"
   }
  }
 },
 "nbformat": 4,
 "nbformat_minor": 2
}
