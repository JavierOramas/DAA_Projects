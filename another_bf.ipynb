{
 "cells": [
  {
   "cell_type": "code",
   "execution_count": 88,
   "metadata": {},
   "outputs": [],
   "source": [
    "def check_prefix(T, A):\n",
    "    return len(A) >= len(T) and T == A[0: len(T)]"
   ]
  },
  {
   "cell_type": "code",
   "execution_count": 89,
   "metadata": {},
   "outputs": [],
   "source": [
    "def bf_solution(T, S):\n",
    "    count = [0]\n",
    "    permutations = []\n",
    "\n",
    "    def inner(s, a, s_index, permutation):\n",
    "        if len(s) == 0:\n",
    "            if check_prefix(T, a):\n",
    "                count[0] += 1\n",
    "                permutations.append((a, permutation))\n",
    "        else:\n",
    "            inner(s[1:], f'{s[0]}{a}', s_index + 1, [s_index, *permutation])\n",
    "            inner(s[1:], f'{a}{s[0]}', s_index + 1, [*permutation, s_index])\n",
    "    \n",
    "    inner(S[1:], S[0], 1, [0])\n",
    "\n",
    "    return count[0], permutations"
   ]
  },
  {
   "cell_type": "code",
   "execution_count": 90,
   "metadata": {},
   "outputs": [
    {
     "name": "stdout",
     "output_type": "stream",
     "text": [
      "95\n",
      "('abcacbbccd', [9, 8, 7, 6, 5, 4, 3, 2, 1, 0])\n",
      "('abccbbccda', [9, 8, 7, 5, 4, 3, 2, 1, 0, 6])\n",
      "('abcbbccdac', [9, 8, 5, 4, 3, 2, 1, 0, 6, 7])\n",
      "('abcabbccdc', [9, 8, 7, 6, 4, 3, 2, 1, 0, 5])\n",
      "('abcbbccdca', [9, 8, 7, 4, 3, 2, 1, 0, 5, 6])\n",
      "('abcacbccdb', [9, 8, 7, 6, 5, 3, 2, 1, 0, 4])\n",
      "('abccbccdba', [9, 8, 7, 5, 3, 2, 1, 0, 4, 6])\n",
      "('abcbccdbac', [9, 8, 5, 3, 2, 1, 0, 4, 6, 7])\n",
      "('abcabccdbc', [9, 8, 7, 6, 3, 2, 1, 0, 4, 5])\n",
      "('abccdbccba', [6, 3, 2, 1, 0, 4, 5, 7, 8, 9])\n",
      "('abcbccdbca', [9, 8, 7, 3, 2, 1, 0, 4, 5, 6])\n",
      "('abccdbcacb', [9, 3, 2, 1, 0, 4, 5, 6, 7, 8])\n",
      "('abcacbccdb', [9, 8, 7, 6, 5, 4, 2, 1, 0, 3])\n",
      "('abccbccdba', [9, 8, 7, 5, 4, 2, 1, 0, 3, 6])\n",
      "('abcbccdbac', [9, 8, 5, 4, 2, 1, 0, 3, 6, 7])\n",
      "('abcabccdbc', [9, 8, 7, 6, 4, 2, 1, 0, 3, 5])\n",
      "('abccdbccba', [6, 4, 2, 1, 0, 3, 5, 7, 8, 9])\n",
      "('abcbccdbca', [9, 8, 7, 4, 2, 1, 0, 3, 5, 6])\n",
      "('abccdbcacb', [9, 4, 2, 1, 0, 3, 5, 6, 7, 8])\n",
      "('abcacccdbb', [9, 8, 7, 6, 5, 2, 1, 0, 3, 4])\n",
      "('abccccdbba', [9, 8, 7, 5, 2, 1, 0, 3, 4, 6])\n",
      "('abcccdbbac', [9, 8, 5, 2, 1, 0, 3, 4, 6, 7])\n",
      "('abcaccdbbc', [9, 8, 7, 6, 2, 1, 0, 3, 4, 5])\n",
      "('abcccdbbca', [9, 8, 7, 2, 1, 0, 3, 4, 5, 6])\n",
      "('abccdbbcac', [9, 8, 2, 1, 0, 3, 4, 5, 6, 7])\n",
      "('abcacbbcdc', [9, 8, 7, 6, 5, 4, 3, 1, 0, 2])\n",
      "('abccbbcdca', [9, 8, 7, 5, 4, 3, 1, 0, 2, 6])\n",
      "('abcbbcdcac', [9, 8, 5, 4, 3, 1, 0, 2, 6, 7])\n",
      "('abcabbcdcc', [9, 8, 7, 6, 4, 3, 1, 0, 2, 5])\n",
      "('abcbbcdcca', [9, 8, 7, 4, 3, 1, 0, 2, 5, 6])\n",
      "('abcacbcdcb', [9, 8, 7, 6, 5, 3, 1, 0, 2, 4])\n",
      "('abccbcdcba', [9, 8, 7, 5, 3, 1, 0, 2, 4, 6])\n",
      "('abcbcdcbac', [9, 8, 5, 3, 1, 0, 2, 4, 6, 7])\n",
      "('abcabcdcbc', [9, 8, 7, 6, 3, 1, 0, 2, 4, 5])\n",
      "('abcdcbccba', [6, 3, 1, 0, 2, 4, 5, 7, 8, 9])\n",
      "('abcbcdcbca', [9, 8, 7, 3, 1, 0, 2, 4, 5, 6])\n",
      "('abcdcbcacb', [9, 3, 1, 0, 2, 4, 5, 6, 7, 8])\n",
      "('abcacbcdcb', [9, 8, 7, 6, 5, 4, 1, 0, 2, 3])\n",
      "('abccbcdcba', [9, 8, 7, 5, 4, 1, 0, 2, 3, 6])\n",
      "('abcbcdcbac', [9, 8, 5, 4, 1, 0, 2, 3, 6, 7])\n",
      "('abcabcdcbc', [9, 8, 7, 6, 4, 1, 0, 2, 3, 5])\n",
      "('abcdcbccba', [6, 4, 1, 0, 2, 3, 5, 7, 8, 9])\n",
      "('abcbcdcbca', [9, 8, 7, 4, 1, 0, 2, 3, 5, 6])\n",
      "('abcdcbcacb', [9, 4, 1, 0, 2, 3, 5, 6, 7, 8])\n",
      "('abcaccdcbb', [9, 8, 7, 6, 5, 1, 0, 2, 3, 4])\n",
      "('abcccdcbba', [9, 8, 7, 5, 1, 0, 2, 3, 4, 6])\n",
      "('abccdcbbac', [9, 8, 5, 1, 0, 2, 3, 4, 6, 7])\n",
      "('abcacdcbbc', [9, 8, 7, 6, 1, 0, 2, 3, 4, 5])\n",
      "('abccdcbbca', [9, 8, 7, 1, 0, 2, 3, 4, 5, 6])\n",
      "('abcdcbbcac', [9, 8, 1, 0, 2, 3, 4, 5, 6, 7])\n",
      "('abcacbbcdc', [9, 8, 7, 6, 5, 4, 3, 2, 0, 1])\n",
      "('abccbbcdca', [9, 8, 7, 5, 4, 3, 2, 0, 1, 6])\n",
      "('abcbbcdcac', [9, 8, 5, 4, 3, 2, 0, 1, 6, 7])\n",
      "('abcabbcdcc', [9, 8, 7, 6, 4, 3, 2, 0, 1, 5])\n",
      "('abcbbcdcca', [9, 8, 7, 4, 3, 2, 0, 1, 5, 6])\n",
      "('abcacbcdcb', [9, 8, 7, 6, 5, 3, 2, 0, 1, 4])\n",
      "('abccbcdcba', [9, 8, 7, 5, 3, 2, 0, 1, 4, 6])\n",
      "('abcbcdcbac', [9, 8, 5, 3, 2, 0, 1, 4, 6, 7])\n",
      "('abcabcdcbc', [9, 8, 7, 6, 3, 2, 0, 1, 4, 5])\n",
      "('abcdcbccba', [6, 3, 2, 0, 1, 4, 5, 7, 8, 9])\n",
      "('abcbcdcbca', [9, 8, 7, 3, 2, 0, 1, 4, 5, 6])\n",
      "('abcdcbcacb', [9, 3, 2, 0, 1, 4, 5, 6, 7, 8])\n",
      "('abcacbcdcb', [9, 8, 7, 6, 5, 4, 2, 0, 1, 3])\n",
      "('abccbcdcba', [9, 8, 7, 5, 4, 2, 0, 1, 3, 6])\n",
      "('abcbcdcbac', [9, 8, 5, 4, 2, 0, 1, 3, 6, 7])\n",
      "('abcabcdcbc', [9, 8, 7, 6, 4, 2, 0, 1, 3, 5])\n",
      "('abcdcbccba', [6, 4, 2, 0, 1, 3, 5, 7, 8, 9])\n",
      "('abcbcdcbca', [9, 8, 7, 4, 2, 0, 1, 3, 5, 6])\n",
      "('abcdcbcacb', [9, 4, 2, 0, 1, 3, 5, 6, 7, 8])\n",
      "('abcaccdcbb', [9, 8, 7, 6, 5, 2, 0, 1, 3, 4])\n",
      "('abcccdcbba', [9, 8, 7, 5, 2, 0, 1, 3, 4, 6])\n",
      "('abccdcbbac', [9, 8, 5, 2, 0, 1, 3, 4, 6, 7])\n",
      "('abcacdcbbc', [9, 8, 7, 6, 2, 0, 1, 3, 4, 5])\n",
      "('abccdcbbca', [9, 8, 7, 2, 0, 1, 3, 4, 5, 6])\n",
      "('abcdcbbcac', [9, 8, 2, 0, 1, 3, 4, 5, 6, 7])\n",
      "('abcacbbdcc', [9, 8, 7, 6, 5, 4, 3, 0, 1, 2])\n",
      "('abccbbdcca', [9, 8, 7, 5, 4, 3, 0, 1, 2, 6])\n",
      "('abcbbdccac', [9, 8, 5, 4, 3, 0, 1, 2, 6, 7])\n",
      "('abcabbdccc', [9, 8, 7, 6, 4, 3, 0, 1, 2, 5])\n",
      "('abcbbdccca', [9, 8, 7, 4, 3, 0, 1, 2, 5, 6])\n",
      "('abcacbdccb', [9, 8, 7, 6, 5, 3, 0, 1, 2, 4])\n",
      "('abccbdccba', [9, 8, 7, 5, 3, 0, 1, 2, 4, 6])\n",
      "('abcbdccbac', [9, 8, 5, 3, 0, 1, 2, 4, 6, 7])\n",
      "('abcabdccbc', [9, 8, 7, 6, 3, 0, 1, 2, 4, 5])\n",
      "('abcbdccbca', [9, 8, 7, 3, 0, 1, 2, 4, 5, 6])\n",
      "('abcacbdccb', [9, 8, 7, 6, 5, 4, 0, 1, 2, 3])\n",
      "('abccbdccba', [9, 8, 7, 5, 4, 0, 1, 2, 3, 6])\n",
      "('abcbdccbac', [9, 8, 5, 4, 0, 1, 2, 3, 6, 7])\n",
      "('abcabdccbc', [9, 8, 7, 6, 4, 0, 1, 2, 3, 5])\n",
      "('abcbdccbca', [9, 8, 7, 4, 0, 1, 2, 3, 5, 6])\n",
      "('abcacdccbb', [9, 8, 7, 6, 5, 0, 1, 2, 3, 4])\n",
      "('abccdccbba', [9, 8, 7, 5, 0, 1, 2, 3, 4, 6])\n",
      "('abcdccbbac', [9, 8, 5, 0, 1, 2, 3, 4, 6, 7])\n",
      "('abcadccbbc', [9, 8, 7, 6, 0, 1, 2, 3, 4, 5])\n",
      "('abcdccbbca', [9, 8, 7, 0, 1, 2, 3, 4, 5, 6])\n"
     ]
    }
   ],
   "source": [
    "c, ps = bf_solution('abc', 'dccbbcacba')\n",
    "print(c)\n",
    "for p in ps:\n",
    "    print(p)"
   ]
  },
  {
   "cell_type": "code",
   "execution_count": 128,
   "metadata": {},
   "outputs": [],
   "source": [
    "def solver(S,T):\n",
    "    trash = 2**S.find(T[0])\n",
    "\n",
    "    S = S[::-1]\n",
    "    # T = T[::-1]\n",
    "\n",
    "    dp = [ [0 for i in range(len(S)+1)] for j in range(len(T)+1)]\n",
    "\n",
    "    for idx,ch in enumerate(T):\n",
    "        for idx2, ch2 in enumerate(S):\n",
    "            i = idx+1\n",
    "            j = idx2+1\n",
    "            if ch == ch2:\n",
    "                if i == 1:\n",
    "                    dp[i][j] = dp[i][idx2] + 1\n",
    "                else:\n",
    "                    dp[i][j] = dp[idx][j] + dp[i][idx2]\n",
    "            else:\n",
    "                dp[i][j] = dp[i][idx2]\n",
    "    # print(dp[len(T)][len(S)])\n",
    "    return dp[len(T)][len(S)]*trash\n"
   ]
  },
  {
   "cell_type": "code",
   "execution_count": 129,
   "metadata": {},
   "outputs": [],
   "source": [
    "def count_strings_bf(S, T):\n",
    "    count = generate_strings(T, S, [], 0)\n",
    "    # 2 because inser initial char at start or end (is the same thing)\n",
    "    return count\n",
    "\n",
    "def generate_strings(T, S, A, idx):\n",
    "    count = 0 \n",
    "\n",
    "    if len(A) == len(S):\n",
    "        # print(A)\n",
    "        # print(T)\n",
    "        if ''.join(A).startswith(''.join(T)):\n",
    "            # print(\"=>\",A)\n",
    "            count += 1\n",
    "        return count\n",
    "\n",
    "    A.insert(0,S[idx])\n",
    "    # print(A)\n",
    "    count += generate_strings(T,S,A,idx+1)\n",
    "    A.pop(0)\n",
    "\n",
    "    A.append(S[idx])\n",
    "    # print(A)\n",
    "    count += generate_strings(T,S,A,idx+1)\n",
    "    A.pop()\n",
    "    \n",
    "    return count\n",
    "\n",
    "\n"
   ]
  },
  {
   "cell_type": "code",
   "execution_count": 130,
   "metadata": {},
   "outputs": [
    {
     "name": "stdout",
     "output_type": "stream",
     "text": [
      "2\n"
     ]
    }
   ],
   "source": [
    "print(count_strings_bf('abaac', 'cba'))\n"
   ]
  },
  {
   "cell_type": "code",
   "execution_count": 131,
   "metadata": {},
   "outputs": [
    {
     "name": "stdout",
     "output_type": "stream",
     "text": [
      "112\n",
      "148\n",
      "(74, [('dcbaddcbacbc', [11, 9, 7, 5, 4, 3, 2, 1, 0, 6, 8, 10]), ('dcbaddcbacbc', [11, 10, 7, 5, 4, 3, 2, 1, 0, 6, 8, 9]), ('dcbaddcbacbc', [11, 9, 8, 5, 4, 3, 2, 1, 0, 6, 7, 10]), ('dcbaddcbacbc', [11, 10, 8, 5, 4, 3, 2, 1, 0, 6, 7, 9]), ('dcbadcbadcbc', [11, 9, 7, 5, 3, 2, 1, 0, 4, 6, 8, 10]), ('dcbadcbadcbc', [11, 10, 7, 5, 3, 2, 1, 0, 4, 6, 8, 9]), ('dcbadcbadcbc', [11, 9, 8, 5, 3, 2, 1, 0, 4, 6, 7, 10]), ('dcbadcbadcbc', [11, 10, 8, 5, 3, 2, 1, 0, 4, 6, 7, 9]), ('dcbadacbbccd', [3, 2, 1, 0, 4, 5, 6, 7, 8, 9, 10, 11]), ('dcbadcbadcbc', [11, 9, 7, 5, 4, 2, 1, 0, 3, 6, 8, 10]), ('dcbadcbadcbc', [11, 10, 7, 5, 4, 2, 1, 0, 3, 6, 8, 9]), ('dcbadcbadcbc', [11, 9, 8, 5, 4, 2, 1, 0, 3, 6, 7, 10]), ('dcbadcbadcbc', [11, 10, 8, 5, 4, 2, 1, 0, 3, 6, 7, 9]), ('dcbadacbbccd', [4, 2, 1, 0, 3, 5, 6, 7, 8, 9, 10, 11]), ('dcbacbaddcbc', [11, 9, 7, 5, 2, 1, 0, 3, 4, 6, 8, 10]), ('dcbacbaddcbc', [11, 10, 7, 5, 2, 1, 0, 3, 4, 6, 8, 9]), ('dcbacbaddcbc', [11, 9, 8, 5, 2, 1, 0, 3, 4, 6, 7, 10]), ('dcbacbaddcbc', [11, 10, 8, 5, 2, 1, 0, 3, 4, 6, 7, 9]), ('dcbaddacbbcc', [11, 2, 1, 0, 3, 4, 5, 6, 7, 8, 9, 10]), ('dcbaddbaccbc', [11, 9, 7, 5, 4, 3, 1, 0, 2, 6, 8, 10]), ('dcbaddbaccbc', [11, 10, 7, 5, 4, 3, 1, 0, 2, 6, 8, 9]), ('dcbaddbaccbc', [11, 9, 8, 5, 4, 3, 1, 0, 2, 6, 7, 10]), ('dcbaddbaccbc', [11, 10, 8, 5, 4, 3, 1, 0, 2, 6, 7, 9]), ('dcbadbacdcbc', [11, 9, 7, 5, 3, 1, 0, 2, 4, 6, 8, 10]), ('dcbadbacdcbc', [11, 10, 7, 5, 3, 1, 0, 2, 4, 6, 8, 9]), ('dcbadbacdcbc', [11, 9, 8, 5, 3, 1, 0, 2, 4, 6, 7, 10]), ('dcbadbacdcbc', [11, 10, 8, 5, 3, 1, 0, 2, 4, 6, 7, 9]), ('dcbadbacdcbc', [11, 9, 7, 5, 4, 1, 0, 2, 3, 6, 8, 10]), ('dcbadbacdcbc', [11, 10, 7, 5, 4, 1, 0, 2, 3, 6, 8, 9]), ('dcbadbacdcbc', [11, 9, 8, 5, 4, 1, 0, 2, 3, 6, 7, 10]), ('dcbadbacdcbc', [11, 10, 8, 5, 4, 1, 0, 2, 3, 6, 7, 9]), ('dcbabacddcbc', [11, 9, 7, 5, 1, 0, 2, 3, 4, 6, 8, 10]), ('dcbabacddcbc', [11, 10, 7, 5, 1, 0, 2, 3, 4, 6, 8, 9]), ('dcbabacddcbc', [11, 9, 8, 5, 1, 0, 2, 3, 4, 6, 7, 10]), ('dcbabacddcbc', [11, 10, 8, 5, 1, 0, 2, 3, 4, 6, 7, 9]), ('dcbacddabbcc', [11, 6, 1, 0, 2, 3, 4, 5, 7, 8, 9, 10]), ('dcbacddacbbc', [11, 9, 1, 0, 2, 3, 4, 5, 6, 7, 8, 10]), ('dcbacddacbbc', [11, 10, 1, 0, 2, 3, 4, 5, 6, 7, 8, 9]), ('dcbaddcabcbc', [11, 9, 7, 5, 4, 3, 2, 0, 1, 6, 8, 10]), ('dcbaddcabcbc', [11, 10, 7, 5, 4, 3, 2, 0, 1, 6, 8, 9]), ('dcbaddcabcbc', [11, 9, 8, 5, 4, 3, 2, 0, 1, 6, 7, 10]), ('dcbaddcabcbc', [11, 10, 8, 5, 4, 3, 2, 0, 1, 6, 7, 9]), ('dcbadcabdcbc', [11, 9, 7, 5, 3, 2, 0, 1, 4, 6, 8, 10]), ('dcbadcabdcbc', [11, 10, 7, 5, 3, 2, 0, 1, 4, 6, 8, 9]), ('dcbadcabdcbc', [11, 9, 8, 5, 3, 2, 0, 1, 4, 6, 7, 10]), ('dcbadcabdcbc', [11, 10, 8, 5, 3, 2, 0, 1, 4, 6, 7, 9]), ('dcbadcabdcbc', [11, 9, 7, 5, 4, 2, 0, 1, 3, 6, 8, 10]), ('dcbadcabdcbc', [11, 10, 7, 5, 4, 2, 0, 1, 3, 6, 8, 9]), ('dcbadcabdcbc', [11, 9, 8, 5, 4, 2, 0, 1, 3, 6, 7, 10]), ('dcbadcabdcbc', [11, 10, 8, 5, 4, 2, 0, 1, 3, 6, 7, 9]), ('dcbacabddcbc', [11, 9, 7, 5, 2, 0, 1, 3, 4, 6, 8, 10]), ('dcbacabddcbc', [11, 10, 7, 5, 2, 0, 1, 3, 4, 6, 8, 9]), ('dcbacabddcbc', [11, 9, 8, 5, 2, 0, 1, 3, 4, 6, 7, 10]), ('dcbacabddcbc', [11, 10, 8, 5, 2, 0, 1, 3, 4, 6, 7, 9]), ('dcbaddabccbc', [11, 9, 7, 5, 4, 3, 0, 1, 2, 6, 8, 10]), ('dcbaddabccbc', [11, 10, 7, 5, 4, 3, 0, 1, 2, 6, 8, 9]), ('dcbaddabccbc', [11, 9, 8, 5, 4, 3, 0, 1, 2, 6, 7, 10]), ('dcbaddabccbc', [11, 10, 8, 5, 4, 3, 0, 1, 2, 6, 7, 9]), ('dcbadabcdcbc', [11, 9, 7, 5, 3, 0, 1, 2, 4, 6, 8, 10]), ('dcbadabcdcbc', [11, 10, 7, 5, 3, 0, 1, 2, 4, 6, 8, 9]), ('dcbadabcdcbc', [11, 9, 8, 5, 3, 0, 1, 2, 4, 6, 7, 10]), ('dcbadabcdcbc', [11, 10, 8, 5, 3, 0, 1, 2, 4, 6, 7, 9]), ('dcbadabcdcbc', [11, 9, 7, 5, 4, 0, 1, 2, 3, 6, 8, 10]), ('dcbadabcdcbc', [11, 10, 7, 5, 4, 0, 1, 2, 3, 6, 8, 9]), ('dcbadabcdcbc', [11, 9, 8, 5, 4, 0, 1, 2, 3, 6, 7, 10]), ('dcbadabcdcbc', [11, 10, 8, 5, 4, 0, 1, 2, 3, 6, 7, 9]), ('dcbaabcddcbc', [11, 9, 7, 5, 0, 1, 2, 3, 4, 6, 8, 10]), ('dcbaabcddcbc', [11, 10, 7, 5, 0, 1, 2, 3, 4, 6, 8, 9]), ('dcbaabcddcbc', [11, 9, 8, 5, 0, 1, 2, 3, 4, 6, 7, 10]), ('dcbaabcddcbc', [11, 10, 8, 5, 0, 1, 2, 3, 4, 6, 7, 9]), ('dcbabcddacbc', [11, 9, 7, 0, 1, 2, 3, 4, 5, 6, 8, 10]), ('dcbabcddacbc', [11, 10, 7, 0, 1, 2, 3, 4, 5, 6, 8, 9]), ('dcbabcddacbc', [11, 9, 8, 0, 1, 2, 3, 4, 5, 6, 7, 10]), ('dcbabcddacbc', [11, 10, 8, 0, 1, 2, 3, 4, 5, 6, 7, 9])])\n"
     ]
    }
   ],
   "source": [
    "print(solver('abcddacbbccd', 'dcba'))\n",
    "print(count_strings_bf('abcddacbbccd', 'dcba'))\n",
    "print(bf_solution('dcba', 'abcddacbbccd'))"
   ]
  },
  {
   "cell_type": "code",
   "execution_count": null,
   "metadata": {},
   "outputs": [],
   "source": []
  }
 ],
 "metadata": {
  "kernelspec": {
   "display_name": "Python 3",
   "language": "python",
   "name": "python3"
  },
  "language_info": {
   "codemirror_mode": {
    "name": "ipython",
    "version": 3
   },
   "file_extension": ".py",
   "mimetype": "text/x-python",
   "name": "python",
   "nbconvert_exporter": "python",
   "pygments_lexer": "ipython3",
   "version": "3.9.13"
  },
  "orig_nbformat": 4,
  "vscode": {
   "interpreter": {
    "hash": "e7370f93d1d0cde622a1f8e1c04877d8463912d04d973331ad4851f04de6915a"
   }
  }
 },
 "nbformat": 4,
 "nbformat_minor": 2
}
