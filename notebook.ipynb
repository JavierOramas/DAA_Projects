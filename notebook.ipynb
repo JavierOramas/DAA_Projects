{
 "cells": [
  {
   "cell_type": "code",
   "execution_count": 1,
   "metadata": {},
   "outputs": [],
   "source": [
    "def count_strings_bf(T, S):\n",
    "    count = 0\n",
    "    count = generate_strings(T, S, S[0], len(T), len(S)-1, count)\n",
    "    return count\n",
    "\n",
    "def generate_strings(T, S, A, t_len, s_len, count):\n",
    "    if s_len == 0:\n",
    "        if A.startswith(T):\n",
    "            count += 1\n",
    "        return count\n",
    "\n",
    "    count = generate_strings(T, S[1:], A + S[0], t_len, s_len - 1, count)\n",
    "    count = generate_strings(T, S[1:], S[0] + A, t_len, s_len - 1, count)\n",
    "\n",
    "    return count\n"
   ]
  },
  {
   "cell_type": "code",
   "execution_count": 2,
   "metadata": {},
   "outputs": [],
   "source": [
    "def count_strings_dp(T, S):\n",
    "    dp = [[0 for _ in range(len(S) + 1)] for _ in range(len(T) + 1)]\n",
    "\n",
    "    for i in range(len(S) + 1):\n",
    "        dp[0][i] = 1\n",
    "\n",
    "    for i in range(1, len(T) + 1):\n",
    "        for j in range(1, len(S) + 1):\n",
    "            if T[i-1] == S[j-1]:\n",
    "                dp[i][j] = dp[i-1][j-1] + dp[i][j-1]\n",
    "            else:\n",
    "                dp[i][j] = dp[i][j-1]\n",
    "                \n",
    "    return sum(dp[len(T)][i] for i in range(len(S) + 1))\n"
   ]
  },
  {
   "cell_type": "code",
   "execution_count": 3,
   "metadata": {},
   "outputs": [
    {
     "name": "stdout",
     "output_type": "stream",
     "text": [
      "BF 4\n",
      "DP 2\n"
     ]
    }
   ],
   "source": [
    "\n",
    "print(\"BF\",count_strings_bf(\"AB\", \"ABA\"))\n",
    "print(\"DP\",count_strings_dp(\"AB\", \"ABA\"))"
   ]
  },
  {
   "cell_type": "code",
   "execution_count": null,
   "metadata": {},
   "outputs": [],
   "source": []
  },
  {
   "cell_type": "code",
   "execution_count": null,
   "metadata": {},
   "outputs": [],
   "source": []
  }
 ],
 "metadata": {
  "kernelspec": {
   "display_name": "base",
   "language": "python",
   "name": "python3"
  },
  "language_info": {
   "codemirror_mode": {
    "name": "ipython",
    "version": 3
   },
   "file_extension": ".py",
   "mimetype": "text/x-python",
   "name": "python",
   "nbconvert_exporter": "python",
   "pygments_lexer": "ipython3",
   "version": "3.9.13"
  },
  "orig_nbformat": 4
 },
 "nbformat": 4,
 "nbformat_minor": 2
}
