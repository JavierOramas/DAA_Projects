{
 "cells": [
  {
   "cell_type": "code",
   "execution_count": 151,
   "metadata": {},
   "outputs": [],
   "source": [
    "def check_prefix(a,t):\n",
    "\n",
    "    if len(a) <= len(t) :\n",
    "        return False\n",
    "\n",
    "    for i in range(len(t)):\n",
    "        if a[i] != t[i]:\n",
    "            return False\n",
    "    return True\n",
    "\n",
    "def count_strings_bf(T, S):\n",
    "    count = 0\n",
    "    count = generate_strings(T, S, [T[0]],[0],1 )\n",
    "    return 2*count\n",
    "\n",
    "def generate_strings(T, S, A, chosen, idx):\n",
    "    count = 0\n",
    "\n",
    "    if check_prefix(A,T):\n",
    "        count = 1\n",
    "\n",
    "    if idx == len(S):\n",
    "        return count\n",
    "\n",
    "    A.insert(0,S[idx])\n",
    "    chosen.append(0)\n",
    "    res_l = generate_strings(T,S,A,chosen, idx+1)\n",
    "    A.pop(0)\n",
    "    chosen.pop()\n",
    "\n",
    "    A.append(S[idx])\n",
    "    chosen.append(1)\n",
    "    res_r = generate_strings(T,S,A,chosen,idx+1)\n",
    "    A.pop()\n",
    "    chosen.pop()\\\n",
    "\n",
    "    return count + res_l + res_r\n",
    "\n"
   ]
  },
  {
   "cell_type": "code",
   "execution_count": 152,
   "metadata": {},
   "outputs": [],
   "source": [
    "def count_strings_dp(T, S):\n",
    "    # construimos matriz de tamaño T*S\n",
    "    # dp[i][j] = cantidad de cadenas A construibles a partir de los primeros j caracteres de S\n",
    "    dp = [[0] * (len(S) + 1) for _ in range(len(T) + 1)]\n",
    "\n",
    "    \n",
    "    for i in range(len(S) + 1):\n",
    "        dp[0][i] = 1\n",
    "\n",
    "    for i in range(1, len(T) + 1):\n",
    "        for j in range(1, len(S) + 1):\n",
    "            # Si T[i-1] == S[j-1] podemos agregar el carácter S[j] al principio o al final \n",
    "            # de cualquier cadena A posible que tenga T como prefijo de longitud i-1 \n",
    "            # y los primeros j-1 caracteres de S. \n",
    "            # De lo contrario, dp[i][j] = dp[i][j-1] \n",
    "            # ya que solo podemos agregar S[j] al final de cualquier cadena A \n",
    "            # posible que tenga T como prefijo de longitud i y los primeros j-1 caracteres de S.\n",
    "            if T[i-1] == S[j-1]:\n",
    "                dp[i][j] = dp[i-1][j-1] + dp[i][j-1]\n",
    "            else:\n",
    "                dp[i][j] = dp[i][j-1]\n",
    "    # La suma de todos los valores de dp[len(t)][i] (para todo i) será la cantidad de cadenas que tienen como prefijo a T\n",
    "    # return sum(dp[len(T)][i] for i in range(len(S) + 1))\n",
    "    sol = 0\n",
    "    for i in range(len(S) + 1):\n",
    "        sol += dp[len(T)][i] + len(S)-i\n",
    "    # sol -= 1\n",
    "\n",
    "    return sol\n"
   ]
  },
  {
   "cell_type": "code",
   "execution_count": 153,
   "metadata": {},
   "outputs": [
    {
     "name": "stdout",
     "output_type": "stream",
     "text": [
      "BF 11\n",
      "DP 23\n"
     ]
    }
   ],
   "source": [
    "print(\"BF\",count_strings_bf(\"AB\", \"ABABA\"))\n",
    "print(\"DP\",count_strings_dp(\"AB\", \"ABABA\"))\n"
   ]
  },
  {
   "cell_type": "code",
   "execution_count": null,
   "metadata": {},
   "outputs": [],
   "source": []
  },
  {
   "cell_type": "code",
   "execution_count": 5,
   "metadata": {},
   "outputs": [
    {
     "data": {
      "text/plain": [
       "0"
      ]
     },
     "execution_count": 5,
     "metadata": {},
     "output_type": "execute_result"
    }
   ],
   "source": [
    "st = 'AAAABBSAABF'\n",
    "pt = 'AB'\n",
    "\n",
    "# compute_prefix_function(st)\n",
    "count_strings(st, pt)"
   ]
  },
  {
   "cell_type": "code",
   "execution_count": 123,
   "metadata": {},
   "outputs": [
    {
     "name": "stdout",
     "output_type": "stream",
     "text": [
      "Soluciones del problema para\n",
      "s: ababa\n",
      "t: ab\n",
      "aba:[0, 0, 0]\n",
      "ababa:[0, 0, 0, 0, 0]\n",
      "abab:[0, 0, 0, 1]\n",
      "ababa:[0, 0, 0, 1, 1]\n",
      "abbaa:[0, 0, 1, 0, 0]\n",
      "abaab:[0, 0, 1, 1, 0]\n",
      "abaab:[0, 1, 0, 0, 0]\n",
      "aba:[0, 1, 1]\n",
      "ababa:[0, 1, 1, 0, 0]\n",
      "abab:[0, 1, 1, 1]\n",
      "ababa:[0, 1, 1, 1, 1]\n",
      "22\n"
     ]
    }
   ],
   "source": [
    "def is_arr_prefix(arr,t):\n",
    "    if(len(arr) <= len(t)):\n",
    "        return False\n",
    "    for i in range(len(t)):\n",
    "        if(arr[i] != t[i]):\n",
    "            return False\n",
    "    return True\n",
    "\n",
    "\n",
    "def slow_solver(s,t,print_sol):\n",
    "    print(\"Soluciones del problema para\")\n",
    "    print('s: ' + s)\n",
    "    print('t: ' + t)\n",
    "    return 2 * slow_solver_aux(s,t,[s[0]],[0],1, print_sol)\n",
    "\n",
    "def slow_solver_aux(s,t,current_sol : list,choices,index,print_sol):    \n",
    "    count = 0\n",
    "    if is_arr_prefix(current_sol,t):\n",
    "        if print_sol:\n",
    "            print(''.join(current_sol) + ':' + str(choices))\n",
    "        count = 1\n",
    "\n",
    "    if(index == len(s)):\n",
    "        return count\n",
    "\n",
    "    current_sol.insert(0,s[index])\n",
    "    choices.append(0)\n",
    "    result_left =  slow_solver_aux(s,t,current_sol,choices,index + 1,print_sol)\n",
    "    current_sol.pop(0)\n",
    "    choices.pop()\n",
    "\n",
    "    current_sol.append(s[index])\n",
    "    choices.append(1)\n",
    "    result_right = slow_solver_aux(s,t,current_sol,choices,index + 1,print_sol)\n",
    "    current_sol.pop()\n",
    "    choices.pop()\n",
    "\n",
    "    return count + result_left + result_right\n",
    "\n",
    "print(slow_solver('ababa','ab',True))\n"
   ]
  },
  {
   "cell_type": "code",
   "execution_count": null,
   "metadata": {},
   "outputs": [],
   "source": []
  }
 ],
 "metadata": {
  "kernelspec": {
   "display_name": "base",
   "language": "python",
   "name": "python3"
  },
  "language_info": {
   "codemirror_mode": {
    "name": "ipython",
    "version": 3
   },
   "file_extension": ".py",
   "mimetype": "text/x-python",
   "name": "python",
   "nbconvert_exporter": "python",
   "pygments_lexer": "ipython3",
   "version": "3.9.13"
  },
  "orig_nbformat": 4
 },
 "nbformat": 4,
 "nbformat_minor": 2
}
